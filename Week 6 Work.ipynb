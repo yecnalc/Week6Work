{
 "cells": [
  {
   "cell_type": "markdown",
   "id": "538d2eeb",
   "metadata": {},
   "source": [
    "# Week 6 Work\n",
    "Algorithm Workbench and Programming Exercises "
   ]
  },
  {
   "cell_type": "markdown",
   "id": "4e33b4bc",
   "metadata": {},
   "source": [
    "Algorithm Workbench, Questions 1 & 2"
   ]
  },
  {
   "cell_type": "markdown",
   "id": "a56d9209",
   "metadata": {},
   "source": [
    "\"Write a program that opens an output file with the filename , writes your name to the file, then closes the file.\""
   ]
  },
  {
   "cell_type": "code",
   "execution_count": 1,
   "id": "2fc95e24",
   "metadata": {},
   "outputs": [
    {
     "ename": "SyntaxError",
     "evalue": "invalid syntax (1107756782.py, line 3)",
     "output_type": "error",
     "traceback": [
      "\u001b[1;36m  Cell \u001b[1;32mIn[1], line 3\u001b[1;36m\u001b[0m\n\u001b[1;33m    name = Question One\u001b[0m\n\u001b[1;37m                    ^\u001b[0m\n\u001b[1;31mSyntaxError\u001b[0m\u001b[1;31m:\u001b[0m invalid syntax\n"
     ]
    }
   ],
   "source": [
    "def main ():\n",
    "    filename = \"output.txt\"\n",
    "    name = Question One\n",
    "    \n",
    "with open(filename, \"W\") as file:\n",
    "file.write(name)\n",
    "print(\"Name has been written to\", filename)\n",
    "\n",
    "if--name-- == \"--main--\"\n",
    "    main()"
   ]
  },
  {
   "cell_type": "markdown",
   "id": "d5b303ae",
   "metadata": {},
   "source": [
    "Seeing little errors I made, hopefully fixing them will help run the code"
   ]
  },
  {
   "cell_type": "code",
   "execution_count": 2,
   "id": "e2d270e9",
   "metadata": {},
   "outputs": [
    {
     "name": "stdout",
     "output_type": "stream",
     "text": [
      "Name has been written to output.txt\n"
     ]
    }
   ],
   "source": [
    "def main():\n",
    "    filename = \"output.txt\"\n",
    "    name = \"Question One\"\n",
    "    with open(filename, \"w\") as file:\n",
    "        file.write(name)\n",
    "\n",
    "    print(\"Name has been written to\", filename)\n",
    "\n",
    "if __name__ == \"__main__\":\n",
    "    main()"
   ]
  },
  {
   "cell_type": "markdown",
   "id": "9503de97",
   "metadata": {},
   "source": [
    "This doesn't seem right, so I am going to seek help with ChatGPT to see if I can figure out what I did wrong."
   ]
  },
  {
   "cell_type": "code",
   "execution_count": 6,
   "id": "acb40f33",
   "metadata": {},
   "outputs": [
    {
     "name": "stdout",
     "output_type": "stream",
     "text": [
      "Name has been written to output.txt\n"
     ]
    }
   ],
   "source": [
    "def write_name_to_file(name, filename):\n",
    "    with open(filename, \"w\") as file:\n",
    "        file.write(name)\n",
    "\n",
    "def main():\n",
    "    filename = \"output.txt\"\n",
    "    name = \"Question One\"\n",
    "    write_name_to_file(name, filename)\n",
    "    print(\"Name has been written to\", filename)\n",
    "\n",
    "if __name__ == \"__main__\":\n",
    "    main()\n",
    "\n"
   ]
  },
  {
   "cell_type": "markdown",
   "id": "d679eda2",
   "metadata": {},
   "source": [
    "According to ChatGPT, I missed a few lines. However, I am still getting the same output. I noticed that in the first line of code, I forgot to include a few words. Overall, I am happy that I am getting the same result. "
   ]
  },
  {
   "cell_type": "markdown",
   "id": "63c846f1",
   "metadata": {},
   "source": [
    "Question 2"
   ]
  },
  {
   "cell_type": "markdown",
   "id": "9926a0a4",
   "metadata": {},
   "source": [
    "\"Write a program that opens the  file that was created by the program in problem 1, reads your name from the file, displays the name on the screen, then closes the file.\""
   ]
  },
  {
   "cell_type": "markdown",
   "id": "7aa22f15",
   "metadata": {},
   "source": [
    "Going based off of what answers I got in the last question, I am going to base this code off of ChatGPT's results. "
   ]
  },
  {
   "cell_type": "code",
   "execution_count": 7,
   "id": "d6641698",
   "metadata": {},
   "outputs": [
    {
     "name": "stdout",
     "output_type": "stream",
     "text": [
      "Name read from file: Question One\n"
     ]
    }
   ],
   "source": [
    "def read_name_from_file(filename):\n",
    "    with open(filename, \"r\") as file:\n",
    "        name = file.read()\n",
    "    return name\n",
    "\n",
    "def main():\n",
    "    filename = \"output.txt\"\n",
    "    name = read_name_from_file(filename)\n",
    "    print(\"Name read from file:\", name)\n",
    "\n",
    "if __name__ == \"__main__\":\n",
    "    main()\n"
   ]
  },
  {
   "cell_type": "markdown",
   "id": "883e880d",
   "metadata": {},
   "source": [
    "I am pleased that I was able to successfully piece this answer together!"
   ]
  },
  {
   "cell_type": "markdown",
   "id": "27130d0d",
   "metadata": {},
   "source": [
    "Programming Exercises 1, 2, 6, & 9"
   ]
  },
  {
   "cell_type": "markdown",
   "id": "e1ac5ad1",
   "metadata": {},
   "source": [
    "\"Assume a file containing a series of integers is named  and exists on the computer’s disk. Write a program that displays all of the numbers in the file.\""
   ]
  },
  {
   "cell_type": "code",
   "execution_count": 8,
   "id": "86439cb6",
   "metadata": {},
   "outputs": [
    {
     "ename": "SyntaxError",
     "evalue": "expected ':' (2634503182.py, line 1)",
     "output_type": "error",
     "traceback": [
      "\u001b[1;36m  Cell \u001b[1;32mIn[8], line 1\u001b[1;36m\u001b[0m\n\u001b[1;33m    def display_numbers_from_file(filename)\u001b[0m\n\u001b[1;37m                                           ^\u001b[0m\n\u001b[1;31mSyntaxError\u001b[0m\u001b[1;31m:\u001b[0m expected ':'\n"
     ]
    }
   ],
   "source": [
    "def display_numbers_from_file(filename)\n",
    "    try:\n",
    "        with open(filename,\"r\") as file\n",
    "        for line in file:\n",
    "            numbers [int(num) for num in line.strip() .split()]\n",
    "            for number in numbers:\n",
    "                print(number)\n",
    "            except FileNotFoundError\n",
    "                print(\"File not found.\")\n",
    "                \n",
    "def main():\n",
    "    filename = \"numbers.text\"\n",
    "    display_numbers_from_file(filename)\n",
    "    \n",
    "if -- name -- = \"--main--\"\n",
    "    main()"
   ]
  },
  {
   "cell_type": "markdown",
   "id": "d47c372f",
   "metadata": {},
   "source": [
    "Again, I have a small error. "
   ]
  },
  {
   "cell_type": "code",
   "execution_count": 9,
   "id": "0685eb8f",
   "metadata": {},
   "outputs": [
    {
     "ename": "SyntaxError",
     "evalue": "expected ':' (2049956344.py, line 3)",
     "output_type": "error",
     "traceback": [
      "\u001b[1;36m  Cell \u001b[1;32mIn[9], line 3\u001b[1;36m\u001b[0m\n\u001b[1;33m    with open(filename,\"r\") as file\u001b[0m\n\u001b[1;37m                                   ^\u001b[0m\n\u001b[1;31mSyntaxError\u001b[0m\u001b[1;31m:\u001b[0m expected ':'\n"
     ]
    }
   ],
   "source": [
    "def display_numbers_from_file(filename):\n",
    "    try:\n",
    "        with open(filename,\"r\") as file\n",
    "        for line in file:\n",
    "            numbers [int(num) for num in line.strip() .split()]\n",
    "            for number in numbers:\n",
    "                print(number)\n",
    "            except FileNotFoundError\n",
    "                print(\"File not found.\")\n",
    "                \n",
    "def main():\n",
    "    filename = \"numbers.text\"\n",
    "    display_numbers_from_file(filename)\n",
    "    \n",
    "if -- name -- = \"--main--\"\n",
    "    main()"
   ]
  },
  {
   "cell_type": "markdown",
   "id": "37222ad7",
   "metadata": {},
   "source": [
    "& again, another small error"
   ]
  },
  {
   "cell_type": "code",
   "execution_count": 10,
   "id": "e4de9999",
   "metadata": {},
   "outputs": [
    {
     "ename": "IndentationError",
     "evalue": "expected an indented block after 'with' statement on line 3 (789138718.py, line 4)",
     "output_type": "error",
     "traceback": [
      "\u001b[1;36m  Cell \u001b[1;32mIn[10], line 4\u001b[1;36m\u001b[0m\n\u001b[1;33m    for line in file:\u001b[0m\n\u001b[1;37m    ^\u001b[0m\n\u001b[1;31mIndentationError\u001b[0m\u001b[1;31m:\u001b[0m expected an indented block after 'with' statement on line 3\n"
     ]
    }
   ],
   "source": [
    "def display_numbers_from_file(filename):\n",
    "    try:\n",
    "        with open(filename,\"r\") as file:\n",
    "        for line in file:\n",
    "            numbers [int(num) for num in line.strip() .split()]\n",
    "            for number in numbers:\n",
    "                print(number)\n",
    "            except FileNotFoundError\n",
    "                print(\"File not found.\")\n",
    "                \n",
    "def main():\n",
    "    filename = \"numbers.text\"\n",
    "    display_numbers_from_file(filename)\n",
    "    \n",
    "if -- name -- = \"--main--\"\n",
    "    main()"
   ]
  },
  {
   "cell_type": "markdown",
   "id": "423b7ccf",
   "metadata": {},
   "source": [
    "... & again a small error"
   ]
  },
  {
   "cell_type": "code",
   "execution_count": 11,
   "id": "545aeeb1",
   "metadata": {},
   "outputs": [
    {
     "ename": "SyntaxError",
     "evalue": "invalid syntax (985378834.py, line 5)",
     "output_type": "error",
     "traceback": [
      "\u001b[1;36m  Cell \u001b[1;32mIn[11], line 5\u001b[1;36m\u001b[0m\n\u001b[1;33m    numbers [int(num) for num in line.strip() .split()]\u001b[0m\n\u001b[1;37m                      ^\u001b[0m\n\u001b[1;31mSyntaxError\u001b[0m\u001b[1;31m:\u001b[0m invalid syntax\n"
     ]
    }
   ],
   "source": [
    "def display_numbers_from_file(filename):\n",
    "    try:\n",
    "        with open(filename,\"r\") as file:\n",
    "            for line in file:\n",
    "                numbers [int(num) for num in line.strip() .split()]\n",
    "                for number in numbers:\n",
    "                print(number)\n",
    "        except FileNotFoundError\n",
    "                print(\"File not found.\")\n",
    "                \n",
    "def main():\n",
    "    filename = \"numbers.text\"\n",
    "    display_numbers_from_file(filename)\n",
    "    \n",
    "if -- name -- = \"--main--\"\n",
    "    main()"
   ]
  },
  {
   "cell_type": "code",
   "execution_count": 12,
   "id": "5d501109",
   "metadata": {},
   "outputs": [
    {
     "ename": "SyntaxError",
     "evalue": "invalid syntax (2750172142.py, line 5)",
     "output_type": "error",
     "traceback": [
      "\u001b[1;36m  Cell \u001b[1;32mIn[12], line 5\u001b[1;36m\u001b[0m\n\u001b[1;33m    numbers [int(num)for num in line.strip() .split()]\u001b[0m\n\u001b[1;37m                     ^\u001b[0m\n\u001b[1;31mSyntaxError\u001b[0m\u001b[1;31m:\u001b[0m invalid syntax\n"
     ]
    }
   ],
   "source": [
    "def display_numbers_from_file(filename):\n",
    "    try:\n",
    "        with open(filename,\"r\") as file:\n",
    "            for line in file:\n",
    "                numbers [int(num)for num in line.strip() .split()]\n",
    "                for number in numbers:\n",
    "                print(number)\n",
    "        except FileNotFoundError\n",
    "                print(\"File not found.\")\n",
    "                \n",
    "def main():\n",
    "    filename = \"numbers.text\"\n",
    "    display_numbers_from_file(filename)\n",
    "    \n",
    "if -- name -- = \"--main--\"\n",
    "    main()"
   ]
  },
  {
   "cell_type": "markdown",
   "id": "a3dacc14",
   "metadata": {},
   "source": [
    "Alright, I am going to look up what I am doing wrong with this code, and hopefully I will understand my mistakes."
   ]
  },
  {
   "cell_type": "code",
   "execution_count": 13,
   "id": "4ef28c8b",
   "metadata": {},
   "outputs": [
    {
     "name": "stdout",
     "output_type": "stream",
     "text": [
      "File not found.\n"
     ]
    }
   ],
   "source": [
    "def display_numbers_from_file(filename):\n",
    "    try:\n",
    "        with open(filename, \"r\") as file:\n",
    "            \n",
    "            for line in file:\n",
    "                \n",
    "                numbers = [int(num) for num in line.strip().split()]\n",
    "                for number in numbers:\n",
    "                    print(number)\n",
    "    except FileNotFoundError:\n",
    "        print(\"File not found.\")\n",
    "\n",
    "def main():\n",
    "    filename = \"n\"  \n",
    "    display_numbers_from_file(filename)\n",
    "\n",
    "if __name__ == \"__main__\":\n",
    "    main()\n"
   ]
  },
  {
   "cell_type": "markdown",
   "id": "5c635774",
   "metadata": {},
   "source": [
    "The code seems to be correct and running smoothly, I just happened to not space out each line correctly, which is something I am forgetting to do."
   ]
  },
  {
   "cell_type": "markdown",
   "id": "659dd305",
   "metadata": {},
   "source": [
    "\"Write a program that asks the user for the name of a file. The program should display only the first five lines of the file’s contents. If the file contains less than five lines, it should display the file’s entire contents.\""
   ]
  },
  {
   "cell_type": "code",
   "execution_count": 14,
   "id": "ca2a2872",
   "metadata": {},
   "outputs": [
    {
     "ename": "SyntaxError",
     "evalue": "invalid syntax (3823503859.py, line 15)",
     "output_type": "error",
     "traceback": [
      "\u001b[1;36m  Cell \u001b[1;32mIn[14], line 15\u001b[1;36m\u001b[0m\n\u001b[1;33m    if --name--== \"--main--\":\u001b[0m\n\u001b[1;37m              ^\u001b[0m\n\u001b[1;31mSyntaxError\u001b[0m\u001b[1;31m:\u001b[0m invalid syntax\n"
     ]
    }
   ],
   "source": [
    "def display_first_five_lines(filename):\n",
    "    try:\n",
    "        with open(filename, \"r\") as file:\n",
    "            lines = file.readlines()[:5]\n",
    "            \n",
    "            for line in lines:\n",
    "                print(line.rstrip())\n",
    "    except FileNotFoundError:\n",
    "        print(\"File not Found\")\n",
    "        \n",
    "def main():\n",
    "    filename = input(\"Enter the name of the file:\")\n",
    "    display_first_five_lines(filename)\n",
    "    \n",
    "if --name--== \"--main--\":\n",
    "    main()"
   ]
  },
  {
   "cell_type": "markdown",
   "id": "d9a55a3f",
   "metadata": {},
   "source": [
    "I was very careful writing this code, I am hoping that this is the only error!"
   ]
  },
  {
   "cell_type": "code",
   "execution_count": 15,
   "id": "1cd1b0c8",
   "metadata": {},
   "outputs": [
    {
     "name": "stdout",
     "output_type": "stream",
     "text": [
      "Enter the name of the file:numeber.txt\n",
      "File not Found\n"
     ]
    }
   ],
   "source": [
    "def display_first_five_lines(filename):\n",
    "    try:\n",
    "        with open(filename, \"r\") as file:\n",
    "            lines = file.readlines()[:5]\n",
    "            \n",
    "            for line in lines:\n",
    "                print(line.rstrip())\n",
    "    except FileNotFoundError:\n",
    "        print(\"File not Found\")\n",
    "        \n",
    "def main():\n",
    "    filename = input(\"Enter the name of the file:\")\n",
    "    display_first_five_lines(filename)\n",
    "    \n",
    "if __name__== \"__main__\":\n",
    "    main()"
   ]
  },
  {
   "cell_type": "markdown",
   "id": "c24b0d51",
   "metadata": {},
   "source": [
    "The code is functioning! I am happy that I had less errors on this program."
   ]
  },
  {
   "cell_type": "markdown",
   "id": "c948cde6",
   "metadata": {},
   "source": [
    "\"Assume a file containing a series of integers is named  and exists on the computer’s disk. Write a program that calculates the average of all the numbers stored in the file.\""
   ]
  },
  {
   "cell_type": "markdown",
   "id": "7af3a02b",
   "metadata": {},
   "source": [
    "I am a little lost on how to start this, so I am expecting that I will make a few errors."
   ]
  },
  {
   "cell_type": "code",
   "execution_count": 16,
   "id": "1acf0631",
   "metadata": {},
   "outputs": [
    {
     "ename": "SyntaxError",
     "evalue": "unterminated string literal (detected at line 31) (2059185698.py, line 31)",
     "output_type": "error",
     "traceback": [
      "\u001b[1;36m  Cell \u001b[1;32mIn[16], line 31\u001b[1;36m\u001b[0m\n\u001b[1;33m    print(Average of numbers in the file:\", average)\u001b[0m\n\u001b[1;37m                                         ^\u001b[0m\n\u001b[1;31mSyntaxError\u001b[0m\u001b[1;31m:\u001b[0m unterminated string literal (detected at line 31)\n"
     ]
    }
   ],
   "source": [
    "def calculate_average(filename): \n",
    "    try: \n",
    "        with open(filename, \"r\") as file:\n",
    "            lines = file.readlines()\n",
    "            \n",
    "            total = 0 \n",
    "            count = 0\n",
    "            \n",
    "            for line in lines:\n",
    "                numbers = [int(num) for num in line.strip().split()]\n",
    "                total = sum(numbers)\n",
    "                count = len(numbers)\n",
    "            \n",
    "        \n",
    "if count != 0:\n",
    "    average = total / count \n",
    "    return average\n",
    "else:\n",
    "    return 0 \n",
    "except FileNotFoundError\n",
    "    print(\"File not found.\")\n",
    "    return None\n",
    "except ValueError \n",
    "    print(\"Invalid data in the file.\")\n",
    "    return None\n",
    "\n",
    "def main(): \n",
    "    filename + \"numbers.txt\"\n",
    "    average = calculate_average(filename)\n",
    "    if average is not None\n",
    "        print(Average of numbers in the file:\", average)\n",
    "              \n",
    "if__name__ = \"__main__\":\n",
    "    main()"
   ]
  },
  {
   "cell_type": "markdown",
   "id": "175224b8",
   "metadata": {},
   "source": [
    "I did get a little stuck writing this out, so I looked up tutorials for how to solve problems like this. I knew that I would be faced with some errors, so bear with me as I go along and fix them. "
   ]
  },
  {
   "cell_type": "code",
   "execution_count": 21,
   "id": "eea6f7d6",
   "metadata": {},
   "outputs": [
    {
     "ename": "SyntaxError",
     "evalue": "expected 'except' or 'finally' block (834751947.py, line 15)",
     "output_type": "error",
     "traceback": [
      "\u001b[1;36m  Cell \u001b[1;32mIn[21], line 15\u001b[1;36m\u001b[0m\n\u001b[1;33m    if count != 0:\u001b[0m\n\u001b[1;37m                  ^\u001b[0m\n\u001b[1;31mSyntaxError\u001b[0m\u001b[1;31m:\u001b[0m expected 'except' or 'finally' block\n"
     ]
    }
   ],
   "source": [
    "def calculate_average(filename): \n",
    "    try: \n",
    "        with open(filename, \"r\") as file:\n",
    "            lines = file.readlines()\n",
    "            \n",
    "            total = 0 \n",
    "            count = 0\n",
    "            \n",
    "            for line in lines:\n",
    "                numbers = [int(num) for num in line.strip().split()]\n",
    "                total = sum(numbers)\n",
    "                count = len(numbers)\n",
    "            \n",
    "        \n",
    "if count != 0:\n",
    "    average = total / count \n",
    "    return average\n",
    "else:\n",
    "    return 0 \n",
    "except FileNotFoundError\n",
    "    print(\"File not found.\")\n",
    "    return None\n",
    "except ValueError \n",
    "    print(\"Invalid data in the file.\")\n",
    "    return None\n",
    "\n",
    "def main(): \n",
    "    filename + \"numbers.txt\"\n",
    "    average = calculate_average(filename)\n",
    "    if average is not None:\n",
    "        print(\"Average of numbers in the file:\", average)\n",
    "if__name__ = \"__main__\":\n",
    "    main()"
   ]
  },
  {
   "cell_type": "code",
   "execution_count": 26,
   "id": "4a9f22f4",
   "metadata": {},
   "outputs": [
    {
     "ename": "SyntaxError",
     "evalue": "expected 'except' or 'finally' block (1159876915.py, line 18)",
     "output_type": "error",
     "traceback": [
      "\u001b[1;36m  Cell \u001b[1;32mIn[26], line 18\u001b[1;36m\u001b[0m\n\u001b[1;33m    else:\u001b[0m\n\u001b[1;37m         ^\u001b[0m\n\u001b[1;31mSyntaxError\u001b[0m\u001b[1;31m:\u001b[0m expected 'except' or 'finally' block\n"
     ]
    }
   ],
   "source": [
    "def calculate_average(filename): \n",
    "    try: \n",
    "        with open(filename, \"r\") as file:\n",
    "            lines = file.readlines()\n",
    "            \n",
    "            total = 0 \n",
    "            count = 0\n",
    "            \n",
    "            for line in lines:\n",
    "                numbers = [int(num) for num in line.strip().split()]\n",
    "                total = sum(numbers)\n",
    "                count = len(numbers)\n",
    "            \n",
    "        \n",
    "            if count != 0:\n",
    "                average = total / count\n",
    "                return average\n",
    "else:\n",
    "    return 0 \n",
    "except FileNotFoundError\n",
    "    print(\"File not found.\")\n",
    "    return None\n",
    "except ValueError \n",
    "    print(\"Invalid data in the file.\")\n",
    "    return None\n",
    "\n",
    "def main(): \n",
    "    filename + \"numbers.txt\"\n",
    "    average = calculate_average(filename)\n",
    "    if average is not None:\n",
    "        print(\"Average of numbers in the file:\", average)\n",
    "if__name__ = \"__main__\":\n",
    "    main()"
   ]
  },
  {
   "cell_type": "code",
   "execution_count": 27,
   "id": "322cfc74",
   "metadata": {},
   "outputs": [
    {
     "ename": "SyntaxError",
     "evalue": "expected 'except' or 'finally' block (4048080832.py, line 20)",
     "output_type": "error",
     "traceback": [
      "\u001b[1;36m  Cell \u001b[1;32mIn[27], line 20\u001b[1;36m\u001b[0m\n\u001b[1;33m    except FileNotFoundError\u001b[0m\n\u001b[1;37m                            ^\u001b[0m\n\u001b[1;31mSyntaxError\u001b[0m\u001b[1;31m:\u001b[0m expected 'except' or 'finally' block\n"
     ]
    }
   ],
   "source": [
    "def calculate_average(filename): \n",
    "    try: \n",
    "        with open(filename, \"r\") as file:\n",
    "            lines = file.readlines()\n",
    "            \n",
    "            total = 0 \n",
    "            count = 0\n",
    "            \n",
    "            for line in lines:\n",
    "                numbers = [int(num) for num in line.strip().split()]\n",
    "                total = sum(numbers)\n",
    "                count = len(numbers)\n",
    "            \n",
    "        \n",
    "            if count != 0:\n",
    "                average = total / count\n",
    "                return average\n",
    "            else:\n",
    "                return 0\n",
    "except FileNotFoundError\n",
    "    print(\"File not found.\")\n",
    "    return None\n",
    "except ValueError \n",
    "    print(\"Invalid data in the file.\")\n",
    "    return None\n",
    "\n",
    "def main(): \n",
    "    filename + \"numbers.txt\"\n",
    "    average = calculate_average(filename)\n",
    "    if average is not None:\n",
    "        print(\"Average of numbers in the file:\", average)\n",
    "if__name__ = \"__main__\":\n",
    "    main()"
   ]
  },
  {
   "cell_type": "code",
   "execution_count": 29,
   "id": "31f818a0",
   "metadata": {},
   "outputs": [
    {
     "name": "stdout",
     "output_type": "stream",
     "text": [
      "File not found.\n"
     ]
    }
   ],
   "source": [
    "def calculate_average(filename):\n",
    "    try:\n",
    "        with open(filename, \"r\") as file:\n",
    "\n",
    "            lines = file.readlines()\n",
    "            \n",
    "            \n",
    "            total = 0\n",
    "            count = 0\n",
    "            \n",
    "        \n",
    "            for line in lines:\n",
    "                numbers = [int(num) for num in line.strip().split()]\n",
    "                total += sum(numbers)\n",
    "                count += len(numbers)\n",
    "            \n",
    "        \n",
    "            if count != 0:\n",
    "                average = total / count\n",
    "                return average\n",
    "            else:\n",
    "                return 0 \n",
    "    except FileNotFoundError:\n",
    "        print(\"File not found.\")\n",
    "        return None\n",
    "    except ValueError:\n",
    "        print(\"Invalid data in the file.\")\n",
    "        return None\n",
    "\n",
    "def main():\n",
    "    filename = \"numbers.txt\"  \n",
    "    average = calculate_average(filename)\n",
    "    if average is not None:\n",
    "        print(\"Average of numbers in the file:\", average)\n",
    "\n",
    "if __name__ == \"__main__\":\n",
    "    main()\n"
   ]
  },
  {
   "cell_type": "markdown",
   "id": "a26477b7",
   "metadata": {},
   "source": [
    "After noticing I was just getting errors after errors, I rewrote and approached this code in a new way. I was slowly going line by line, and having to check my work. I am happy that I am at least getting some sort of positive outcome."
   ]
  },
  {
   "cell_type": "markdown",
   "id": "92594986",
   "metadata": {},
   "source": [
    "\"Modify the program that you wrote for Exercise 6 so it handles the following exceptions:  It should handle any  exceptions that are raised when the file is opened and data is read from it.It should handle any  exceptions that are raised when the items that are read from the file are converted to a number.\""
   ]
  },
  {
   "cell_type": "markdown",
   "id": "6c1f98d8",
   "metadata": {},
   "source": [
    "I am going to try and slow down and really try to understand what I am doing in each line of code that could be wrong. I feel that this problem will end up having a simialr line of code to the last problem, so I will keep that in mind when arranging it. "
   ]
  },
  {
   "cell_type": "code",
   "execution_count": 30,
   "id": "3c6f080b",
   "metadata": {},
   "outputs": [
    {
     "ename": "SyntaxError",
     "evalue": "expected 'except' or 'finally' block (379424320.py, line 11)",
     "output_type": "error",
     "traceback": [
      "\u001b[1;36m  Cell \u001b[1;32mIn[30], line 11\u001b[1;36m\u001b[0m\n\u001b[1;33m    except ValueError:\u001b[0m\n\u001b[1;37m    ^\u001b[0m\n\u001b[1;31mSyntaxError\u001b[0m\u001b[1;31m:\u001b[0m expected 'except' or 'finally' block\n"
     ]
    }
   ],
   "source": [
    "def calculate_average(filename):\n",
    "    try: \n",
    "        with open(filename, \"r\") as file:\n",
    "            lines = file.readlines()\n",
    "            total = 0\n",
    "            count = 0\n",
    "            \n",
    "            for line in lines:\n",
    "                try:\n",
    "                    numbers = [int(num) for num in line.strip().split()]\n",
    "        except ValueError:\n",
    "            print(\"Invalid data in the file:\", line)\n",
    "            \n",
    "        \n",
    "        if count! =0:\n",
    "            average = total / count\n",
    "            return average\n",
    "        else:\n",
    "            return 0 \n",
    "    except FileNotFoundError:\n",
    "        print(\"File not found.\")\n",
    "        return None\n",
    "    except Exception as e:\n",
    "        print(\"An error occurred\", e)\n",
    "        return None\n",
    "    \n",
    "def main(): \n",
    "    filename=input(\"Enter the name of the file:\")\n",
    "    average = calculate_average(filename)\n",
    "    if average is not None:\n",
    "        print(\"Average of numbers in the file\", average)\n",
    "        \n",
    "if__name__== \"__main__\":\n",
    "    main()"
   ]
  },
  {
   "cell_type": "markdown",
   "id": "a469fb10",
   "metadata": {},
   "source": [
    "This was expected, so I am going to double check my work with ChatGPT to make sure I used the correct commands."
   ]
  },
  {
   "cell_type": "code",
   "execution_count": 37,
   "id": "c25f9048",
   "metadata": {},
   "outputs": [
    {
     "ename": "IndentationError",
     "evalue": "unindent does not match any outer indentation level (<tokenize>, line 18)",
     "output_type": "error",
     "traceback": [
      "\u001b[1;36m  File \u001b[1;32m<tokenize>:18\u001b[1;36m\u001b[0m\n\u001b[1;33m    else:\u001b[0m\n\u001b[1;37m    ^\u001b[0m\n\u001b[1;31mIndentationError\u001b[0m\u001b[1;31m:\u001b[0m unindent does not match any outer indentation level\n"
     ]
    }
   ],
   "source": [
    "def calculate_average(filename):\n",
    "    try: \n",
    "        with open(filename, \"r\") as file:\n",
    "            lines = file.readlines()\n",
    "            total = 0\n",
    "            count = 0\n",
    "            \n",
    "            for line in lines:\n",
    "                try:\n",
    "                    numbers = [int(num) for num in line.strip().split()]\n",
    "    except ValueError:\n",
    "            print(\"Invalid data in the file:\", line)\n",
    "            \n",
    "        \n",
    "    if count! =0:\n",
    "            average = total / count\n",
    "            return average\n",
    "        else:\n",
    "            return 0 \n",
    "    except FileNotFoundError:\n",
    "        print(\"File not found.\")\n",
    "        return None\n",
    "    except Exception as e:\n",
    "        print(\"An error occurred\", e)\n",
    "        return None\n",
    "    \n",
    "def main(): \n",
    "    filename=input(\"Enter the name of the file:\")\n",
    "    average = calculate_average(filename)\n",
    "    if average is not None:\n",
    "        print(\"Average of numbers in the file\", average)\n",
    "        \n",
    "if__name__== \"__main__\":\n",
    "    main()"
   ]
  },
  {
   "cell_type": "markdown",
   "id": "cc2c5ba9",
   "metadata": {},
   "source": [
    "After asking ChatGPT if this code was correct, I noticed that I am yet again having errors with indentations and spacing. Everything else seems to be correct, which I am glad about."
   ]
  },
  {
   "cell_type": "code",
   "execution_count": 38,
   "id": "b1f5f62f",
   "metadata": {},
   "outputs": [
    {
     "ename": "SyntaxError",
     "evalue": "expected 'except' or 'finally' block (2631180150.py, line 11)",
     "output_type": "error",
     "traceback": [
      "\u001b[1;36m  Cell \u001b[1;32mIn[38], line 11\u001b[1;36m\u001b[0m\n\u001b[1;33m    except ValueError:\u001b[0m\n\u001b[1;37m    ^\u001b[0m\n\u001b[1;31mSyntaxError\u001b[0m\u001b[1;31m:\u001b[0m expected 'except' or 'finally' block\n"
     ]
    }
   ],
   "source": [
    "def calculate_average(filename):\n",
    "    try: \n",
    "        with open(filename, \"r\") as file:\n",
    "            lines = file.readlines()\n",
    "            total = 0\n",
    "            count = 0\n",
    "            \n",
    "            for line in lines:\n",
    "                try:\n",
    "                    numbers = [int(num) for num in line.strip().split()]\n",
    "    except ValueError:\n",
    "            print(\"Invalid data in the file:\", line)\n",
    "            \n",
    "        \n",
    "    if count! =0:\n",
    "            average = total / count\n",
    "            return average\n",
    "    else:\n",
    "        return 0 \n",
    "    except FileNotFoundError:\n",
    "        print(\"File not found.\")\n",
    "        return None\n",
    "    except Exception as e:\n",
    "        print(\"An error occurred\", e)\n",
    "        return None\n",
    "    \n",
    "def main(): \n",
    "    filename=input(\"Enter the name of the file:\")\n",
    "    average = calculate_average(filename)\n",
    "    if average is not None:\n",
    "        print(\"Average of numbers in the file\", average)\n",
    "        \n",
    "if__name__== \"__main__\":\n",
    "    main()"
   ]
  },
  {
   "cell_type": "code",
   "execution_count": null,
   "id": "abc38aed",
   "metadata": {},
   "outputs": [],
   "source": [
    "def calculate_average(filename):\n",
    "    try:\n",
    "        with open(filename, \"r\") as file:\n",
    "            lines = file.readlines()\n",
    "            total = 0\n",
    "            count = 0\n",
    "            \n",
    "            for line in lines:\n",
    "                try:\n",
    "                    numbers = [int(num) for num in line.strip().split()]\n",
    "                    total += sum(numbers)\n",
    "                    count += len(numbers)\n",
    "                except ValueError:\n",
    "                    print(\"Invalid data in the file:\", line)\n",
    "            \n",
    "            if count != 0:\n",
    "                average = total / count\n",
    "                return average\n",
    "            else:\n",
    "                return 0\n",
    "    except FileNotFoundError:\n",
    "        print(\"File not found.\")\n",
    "        return None\n",
    "    except Exception as e:\n",
    "        print(\"An error occurred:\", e)\n",
    "        return None\n",
    "\n",
    "def main():\n",
    "    filename = input(\"Enter the name of the file: \")\n",
    "    average = calculate_average(filename)\n",
    "    if average is not None:\n",
    "        print(\"Average of numbers in the file:\", average)\n",
    "\n",
    "if __name__ == \"__main__\":\n",
    "    main()\n"
   ]
  },
  {
   "cell_type": "markdown",
   "id": "dd56a234",
   "metadata": {},
   "source": [
    "After a lot of double checking, comparing code to ChatGPT, looking at videos on YouTube, I got a functioning code! I spent some time on this assignment, and I am satisfied that I have something to show for it. This weeks work stumped me a bit. I am glad that I have plenty of resources to look at to guide me or show me where I went wrong."
   ]
  },
  {
   "cell_type": "code",
   "execution_count": null,
   "id": "66cae6f9",
   "metadata": {},
   "outputs": [],
   "source": []
  }
 ],
 "metadata": {
  "kernelspec": {
   "display_name": "Python 3 (ipykernel)",
   "language": "python",
   "name": "python3"
  },
  "language_info": {
   "codemirror_mode": {
    "name": "ipython",
    "version": 3
   },
   "file_extension": ".py",
   "mimetype": "text/x-python",
   "name": "python",
   "nbconvert_exporter": "python",
   "pygments_lexer": "ipython3",
   "version": "3.11.5"
  }
 },
 "nbformat": 4,
 "nbformat_minor": 5
}
